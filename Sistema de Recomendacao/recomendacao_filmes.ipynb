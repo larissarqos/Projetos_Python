version https://git-lfs.github.com/spec/v1
oid sha256:b42c32aaa4607800956609070e612442f76a2899a98d3e764f97bc1efb93eeb8
size 79625
